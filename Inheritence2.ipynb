{
  "nbformat": 4,
  "nbformat_minor": 0,
  "metadata": {
    "colab": {
      "name": "Inheritence2.ipynb",
      "provenance": [],
      "authorship_tag": "ABX9TyMyTD3pe+lxert2PAgk9hD3",
      "include_colab_link": true
    },
    "kernelspec": {
      "name": "python3",
      "display_name": "Python 3"
    },
    "language_info": {
      "name": "python"
    }
  },
  "cells": [
    {
      "cell_type": "markdown",
      "metadata": {
        "id": "view-in-github",
        "colab_type": "text"
      },
      "source": [
        "<a href=\"https://colab.research.google.com/github/DeepanshuPasrija/Python02082021/blob/main/Inheritence2.ipynb\" target=\"_parent\"><img src=\"https://colab.research.google.com/assets/colab-badge.svg\" alt=\"Open In Colab\"/></a>"
      ]
    },
    {
      "cell_type": "code",
      "metadata": {
        "id": "_SYNUhXRFJEU"
      },
      "source": [
        "class Employee:\n",
        "  def __init__(self, id, name):\n",
        "    self.id=id\n",
        "    self.name=name"
      ],
      "execution_count": 1,
      "outputs": []
    },
    {
      "cell_type": "code",
      "metadata": {
        "id": "x_0C4A6HC3Hu"
      },
      "source": [
        "class PayrollSystem:\n",
        "  def calculate_payroll(self,employees):\n",
        "    print(\"Calculating Payroll\")\n",
        "    for employee in employees:\n",
        "      print(f'Payroll for:{employee.id} - {employee.name}')\n",
        "      print(f'- Check amount:{employee.calculate_payroll()}')\n",
        "      print(\"\")\n"
      ],
      "execution_count": 5,
      "outputs": []
    },
    {
      "cell_type": "code",
      "metadata": {
        "id": "6YOhB6feGEqg"
      },
      "source": [
        "class SalaryEmployee(Employee):\n",
        "  def __init__(self,id,name,weekly_salary):\n",
        "    super().__init__(id,name)\n",
        "    self.weekly_salary = weekly_salary\n",
        "\n",
        "  def calculate_payroll(self):\n",
        "    return self.weekly_salary"
      ],
      "execution_count": 6,
      "outputs": []
    },
    {
      "cell_type": "code",
      "metadata": {
        "id": "Bm2dpCO6HyXs"
      },
      "source": [
        "class HourlyEmployee(Employee):\n",
        "  def __init__(self,id,name,hours_worked,hour_rate):\n",
        "    super().__init__(id,name)\n",
        "    self.hours_worked = hours_worked\n",
        "    self.hour_rate = hour_rate\n",
        "  \n",
        "    def calculate_payroll(self):\n",
        "      return self.hours_worked*self.hour_rate"
      ],
      "execution_count": 8,
      "outputs": []
    },
    {
      "cell_type": "code",
      "metadata": {
        "id": "B2J6jG7QIjND"
      },
      "source": [
        "class CommissionEmployee(SalaryEmployee):\n",
        "  def __init__(self, id,name,weekly_salary,commission):\n",
        "    super().__init__(id,name,weekly_salary)\n",
        "    self.commission=commission\n",
        "\n",
        "  def calculate_payroll(self):\n",
        "    fixed = super().calculate_payroll()\n",
        "    return fixed + self.commission"
      ],
      "execution_count": 10,
      "outputs": []
    },
    {
      "cell_type": "code",
      "metadata": {
        "id": "bP4Yi-yfJr7w"
      },
      "source": [
        ""
      ],
      "execution_count": null,
      "outputs": []
    }
  ]
}