{
  "nbformat": 4,
  "nbformat_minor": 0,
  "metadata": {
    "colab": {
      "name": "Inheritence2.ipynb",
      "provenance": [],
      "collapsed_sections": [],
      "authorship_tag": "ABX9TyMUCVA3l1zn3+7vhAAQKV5I",
      "include_colab_link": true
    },
    "kernelspec": {
      "name": "python3",
      "display_name": "Python 3"
    },
    "language_info": {
      "name": "python"
    }
  },
  "cells": [
    {
      "cell_type": "markdown",
      "metadata": {
        "id": "view-in-github",
        "colab_type": "text"
      },
      "source": [
        "<a href=\"https://colab.research.google.com/github/DeepanshuPasrija/Python02082021/blob/main/Inheritence2.ipynb\" target=\"_parent\"><img src=\"https://colab.research.google.com/assets/colab-badge.svg\" alt=\"Open In Colab\"/></a>"
      ]
    },
    {
      "cell_type": "code",
      "metadata": {
        "id": "_SYNUhXRFJEU"
      },
      "source": [
        "class Employee:\n",
        "  def __init__(self, id, name):\n",
        "    self.id=id\n",
        "    self.name=name"
      ],
      "execution_count": 1,
      "outputs": []
    },
    {
      "cell_type": "code",
      "metadata": {
        "id": "x_0C4A6HC3Hu"
      },
      "source": [
        "class PayrollSystem:\n",
        "  def calculate_payroll(self,employees):\n",
        "    print(\"Calculating Payroll\")\n",
        "    for employee in employees:\n",
        "      print(f'Payroll for:{employee.id} - {employee.name}')\n",
        "      print(f'- Check amount:{employee.calculate_payroll()}')\n",
        "      print(\"\")\n"
      ],
      "execution_count": 12,
      "outputs": []
    },
    {
      "cell_type": "code",
      "metadata": {
        "id": "6YOhB6feGEqg"
      },
      "source": [
        "class SalaryEmployee(Employee):\n",
        "  def __init__(self,id,name,weekly_salary):\n",
        "    super().__init__(id,name)\n",
        "    self.weekly_salary = weekly_salary\n",
        "\n",
        "  def calculate_payroll(self):\n",
        "    return self.weekly_salary"
      ],
      "execution_count": 13,
      "outputs": []
    },
    {
      "cell_type": "code",
      "metadata": {
        "id": "Bm2dpCO6HyXs"
      },
      "source": [
        "class HourlyEmployee(Employee):\n",
        "  def __init__(self,id,name,hours_worked,hour_rate):\n",
        "    super().__init__(id,name)\n",
        "    self.hours_worked = hours_worked\n",
        "    self.hour_rate = hour_rate\n",
        "  \n",
        "  def calculate_payroll(self):\n",
        "      return self.hours_worked*self.hour_rate"
      ],
      "execution_count": 17,
      "outputs": []
    },
    {
      "cell_type": "code",
      "metadata": {
        "id": "B2J6jG7QIjND"
      },
      "source": [
        "class CommissionEmployee(SalaryEmployee):\n",
        "  def __init__(self, id,name,weekly_salary,commission):\n",
        "    super().__init__(id,name,weekly_salary)\n",
        "    self.commission=commission\n",
        "\n",
        "  def calculate_payroll(self):\n",
        "    fixed = super().calculate_payroll()\n",
        "    return fixed + self.commission"
      ],
      "execution_count": 18,
      "outputs": []
    },
    {
      "cell_type": "code",
      "metadata": {
        "colab": {
          "base_uri": "https://localhost:8080/"
        },
        "id": "bP4Yi-yfJr7w",
        "outputId": "f5dc0668-6557-4425-c754-80d9f1882540"
      },
      "source": [
        "salary_employee = SalaryEmployee(1,\"John\",1500)\n",
        "hourly_employee = HourlyEmployee(2,\"Jane\",40,15)\n",
        "commission_employee = CommissionEmployee(3,\"Ray\",1000,250)\n",
        "\n",
        "payroll_system = PayrollSystem()\n",
        "payroll_system.calculate_payroll([\n",
        "                                  salary_employee,\n",
        "                                  hourly_employee,\n",
        "                                  commission_employee\n",
        "])"
      ],
      "execution_count": 19,
      "outputs": [
        {
          "output_type": "stream",
          "text": [
            "Calculating Payroll\n",
            "Payroll for:1 - John\n",
            "- Check amount:1500\n",
            "\n",
            "Payroll for:2 - Jane\n",
            "- Check amount:600\n",
            "\n",
            "Payroll for:3 - Ray\n",
            "- Check amount:1250\n",
            "\n"
          ],
          "name": "stdout"
        }
      ]
    },
    {
      "cell_type": "code",
      "metadata": {
        "id": "x5D9ULmLO1f-"
      },
      "source": [
        "class Manager(SalaryEmployee):\n",
        "  def work(self,hours):\n",
        "    print(f'{self.name} always screams for atleast {self.hours} hours everyday')\n",
        "\n",
        "class Secretary(SalaryEmployee):\n",
        "  def work(self,hours):\n",
        "    print(f'{self.name} spends time chilling at others desk for {self.hours} hours everyday')\n",
        "\n",
        "class SalesPerson(CommissionEmployee):\n",
        "  def work(self,hours):\n",
        "    print(f'{self.name} spends {self.hours} hours on phone everyday')\n",
        "\n",
        "class FactoryWorker(HourlyEmployee):\n",
        "  def work(self,hours):\n",
        "    print(f'{self.name} works hard, breaking rocks for {self.hours} hours everyday')"
      ],
      "execution_count": 22,
      "outputs": []
    },
    {
      "cell_type": "code",
      "metadata": {
        "id": "JqEALypRfmzE"
      },
      "source": [
        "class ProductivitySystem:\n",
        "  def track(self,employees,hours):\n",
        "    print(\"Tracking Employees Productivity:\")\n",
        "    for employee in employees:\n",
        "      employee.work(hours)\n",
        "    print('')\n"
      ],
      "execution_count": 23,
      "outputs": []
    },
    {
      "cell_type": "code",
      "metadata": {
        "id": "_q1BUEOkg7te"
      },
      "source": [
        "manager = Manager(1,\"Puja\",3000)\n",
        "secretary = Secretary(1,\"Vijay\",1500)\n",
        "sales_guy = SalesPerson(1,\"Roy\",1000,250)\n",
        "factory_worker = FactoryWorker(1,\"Teams\",40,15)\n"
      ],
      "execution_count": 24,
      "outputs": []
    },
    {
      "cell_type": "code",
      "metadata": {
        "id": "rZoMe0nDhpdh"
      },
      "source": [
        ""
      ],
      "execution_count": null,
      "outputs": []
    }
  ]
}