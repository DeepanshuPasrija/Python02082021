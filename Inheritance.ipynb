{
  "nbformat": 4,
  "nbformat_minor": 0,
  "metadata": {
    "colab": {
      "name": "Inheritance.ipynb",
      "provenance": [],
      "collapsed_sections": [],
      "authorship_tag": "ABX9TyO11Uams6KwqDcwQBZhdeiv",
      "include_colab_link": true
    },
    "kernelspec": {
      "name": "python3",
      "display_name": "Python 3"
    },
    "language_info": {
      "name": "python"
    }
  },
  "cells": [
    {
      "cell_type": "markdown",
      "metadata": {
        "id": "view-in-github",
        "colab_type": "text"
      },
      "source": [
        "<a href=\"https://colab.research.google.com/github/DeepanshuPasrija/Python02082021/blob/main/Inheritance.ipynb\" target=\"_parent\"><img src=\"https://colab.research.google.com/assets/colab-badge.svg\" alt=\"Open In Colab\"/></a>"
      ]
    },
    {
      "cell_type": "code",
      "metadata": {
        "id": "EQsIywXJwfsd"
      },
      "source": [
        "class Training:\n",
        "  def __init__(self,name,level):  #initialization\n",
        "    self.name = name\n",
        "    self.level = level\n",
        "  \n",
        "    def printo(self):\n",
        "    print(\"Hi Training name is \"+ self.name)\n",
        "    print(\"Hi Training Level is \"+ str(self.level))\n",
        "\n",
        "\n"
      ],
      "execution_count": 7,
      "outputs": []
    },
    {
      "cell_type": "code",
      "metadata": {
        "colab": {
          "base_uri": "https://localhost:8080/"
        },
        "id": "7nPgiZhPyCIZ",
        "outputId": "44c0a9f9-c8b3-41ce-a632-820b3b9176ee"
      },
      "source": [
        "p1 = Training(\"Python Training\",10)\n",
        "p1.printo()"
      ],
      "execution_count": 8,
      "outputs": [
        {
          "output_type": "stream",
          "text": [
            "Hi Training name is Python Training\n",
            "Hi Training Level is 10\n"
          ],
          "name": "stdout"
        }
      ]
    },
    {
      "cell_type": "code",
      "metadata": {
        "id": "vX52kjO9yQUj"
      },
      "source": [
        "del p1.level\n",
        "del p1"
      ],
      "execution_count": 9,
      "outputs": []
    },
    {
      "cell_type": "code",
      "metadata": {
        "id": "PTNAVQQp1APZ"
      },
      "source": [
        "class Person:\n",
        "  pass"
      ],
      "execution_count": 11,
      "outputs": []
    },
    {
      "cell_type": "code",
      "metadata": {
        "id": "TR8Ts19V1LN6"
      },
      "source": [
        "class Trainer:\n",
        "  def __init__(self,fname,lname):\n",
        "    self.fname= fname\n",
        "    self.lname= lname\n",
        "\n",
        "  def printname(self):\n",
        "    print(self.fname , self.lname)\n",
        "    \n"
      ],
      "execution_count": 12,
      "outputs": []
    },
    {
      "cell_type": "code",
      "metadata": {
        "colab": {
          "base_uri": "https://localhost:8080/"
        },
        "id": "vlFpOBhm3SG1",
        "outputId": "2dfd9070-2bac-4c07-86f7-d187928faca9"
      },
      "source": [
        "x = Trainer(\"Deepanshu\",\"Pasrija\")\n",
        "x.printname()"
      ],
      "execution_count": 13,
      "outputs": [
        {
          "output_type": "stream",
          "text": [
            "Deepanshu Pasrija\n"
          ],
          "name": "stdout"
        }
      ]
    },
    {
      "cell_type": "code",
      "metadata": {
        "id": "CT6Z5SrR3Z9p"
      },
      "source": [
        "class Person:\n",
        "  def __init__(self,fname,lname):\n",
        "    self.fname=fname\n",
        "    self.lname=lname\n",
        "  \n",
        "  def printname(self):\n",
        "    print(self.fname,self.lname)\n",
        "\n",
        "class Student(Person):\n",
        "  pass\n"
      ],
      "execution_count": 16,
      "outputs": []
    },
    {
      "cell_type": "code",
      "metadata": {
        "colab": {
          "base_uri": "https://localhost:8080/"
        },
        "id": "aPuY2xVU74a_",
        "outputId": "3e372576-cc23-46ee-d0fa-8f2e39f441dd"
      },
      "source": [
        "x = Student(\"Deepanshu\",\"Pasrija\")\n",
        "x.printname()"
      ],
      "execution_count": 17,
      "outputs": [
        {
          "output_type": "stream",
          "text": [
            "Deepanshu Pasrija\n"
          ],
          "name": "stdout"
        }
      ]
    },
    {
      "cell_type": "code",
      "metadata": {
        "id": "F7metClD8TMt"
      },
      "source": [
        ""
      ],
      "execution_count": null,
      "outputs": []
    }
  ]
}