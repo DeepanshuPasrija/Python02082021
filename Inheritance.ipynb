{
  "nbformat": 4,
  "nbformat_minor": 0,
  "metadata": {
    "colab": {
      "name": "Inheritance.ipynb",
      "provenance": [],
      "collapsed_sections": [],
      "authorship_tag": "ABX9TyPIkTDtJGAmXg2m6H4CXU6R",
      "include_colab_link": true
    },
    "kernelspec": {
      "name": "python3",
      "display_name": "Python 3"
    },
    "language_info": {
      "name": "python"
    }
  },
  "cells": [
    {
      "cell_type": "markdown",
      "metadata": {
        "id": "view-in-github",
        "colab_type": "text"
      },
      "source": [
        "<a href=\"https://colab.research.google.com/github/DeepanshuPasrija/Python02082021/blob/main/Inheritance.ipynb\" target=\"_parent\"><img src=\"https://colab.research.google.com/assets/colab-badge.svg\" alt=\"Open In Colab\"/></a>"
      ]
    },
    {
      "cell_type": "code",
      "metadata": {
        "id": "EQsIywXJwfsd"
      },
      "source": [
        "class Training:\n",
        "  def __init__(self,name,level):  #initialization\n",
        "    self.name = name\n",
        "    self.level = level\n",
        "  \n",
        "  def printo(self):\n",
        "    print(\"Hi Training name is \"+ self.name)\n"
      ],
      "execution_count": null,
      "outputs": []
    },
    {
      "cell_type": "code",
      "metadata": {
        "colab": {
          "base_uri": "https://localhost:8080/"
        },
        "id": "7nPgiZhPyCIZ",
        "outputId": "009da077-d59c-41fd-a6d9-e74ae53c5936"
      },
      "source": [
        "p1 = Training(\"Python Training\",10)\n",
        "p1.printo()"
      ],
      "execution_count": null,
      "outputs": [
        {
          "output_type": "stream",
          "text": [
            "Hi Training name is Python Training\n"
          ],
          "name": "stdout"
        }
      ]
    },
    {
      "cell_type": "code",
      "metadata": {
        "id": "vX52kjO9yQUj"
      },
      "source": [
        ""
      ],
      "execution_count": null,
      "outputs": []
    }
  ]
}