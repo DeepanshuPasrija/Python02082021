{
  "nbformat": 4,
  "nbformat_minor": 0,
  "metadata": {
    "colab": {
      "name": "FeaturesPython.ipynb",
      "provenance": [],
      "collapsed_sections": [],
      "authorship_tag": "ABX9TyOmytz5CFJrp/fN8Suqn5YX",
      "include_colab_link": true
    },
    "kernelspec": {
      "name": "python3",
      "display_name": "Python 3"
    },
    "language_info": {
      "name": "python"
    }
  },
  "cells": [
    {
      "cell_type": "markdown",
      "metadata": {
        "id": "view-in-github",
        "colab_type": "text"
      },
      "source": [
        "<a href=\"https://colab.research.google.com/github/DeepanshuPasrija/Python02082021/blob/main/FeaturesPython.ipynb\" target=\"_parent\"><img src=\"https://colab.research.google.com/assets/colab-badge.svg\" alt=\"Open In Colab\"/></a>"
      ]
    },
    {
      "cell_type": "markdown",
      "metadata": {
        "id": "CKyA70QrvDVs"
      },
      "source": [
        "SUB CLASSES:"
      ]
    },
    {
      "cell_type": "code",
      "metadata": {
        "id": "TIgOqKcss9Q5"
      },
      "source": [
        "class Trainer(object):\n",
        "  def __init__(self, name,behaviour,knowledge,content):\n",
        "    self.name =name\n",
        "    self.behaviour =behaviour\n",
        "    self.knowledge =knowledge\n",
        "    self.content =content\n",
        "\n",
        "  def get_behaviour(self):\n",
        "    return self.behaviour\n",
        "\n",
        "  def get_content(self):\n",
        "    return self.content"
      ],
      "execution_count": null,
      "outputs": []
    },
    {
      "cell_type": "code",
      "metadata": {
        "id": "u0D_XuH0tz0c"
      },
      "source": [
        "class GoodTrainer(Trainer):\n",
        "  def __init__(self,name,behaviour,knowledge,content):\n",
        "    super().__init__(name,behaviour,knowledge,content)\n",
        "\n",
        "  def encourage(self):\n",
        "    print(\"God trainer encourages hands on practice\")\n",
        "  \n",
        "  def nurture_talent(self):\n",
        "    print(\"God trainer encourages hands on practice and nurtures audience\")\n",
        "  "
      ],
      "execution_count": null,
      "outputs": []
    },
    {
      "cell_type": "code",
      "metadata": {
        "id": "q_mq0pszumXO"
      },
      "source": [
        "result = GoodTrainer(\"Deepanshu\",\"Good\",\"Ample\",\"Python programming\")"
      ],
      "execution_count": null,
      "outputs": []
    },
    {
      "cell_type": "code",
      "metadata": {
        "colab": {
          "base_uri": "https://localhost:8080/",
          "height": 35
        },
        "id": "p1hvFvfRu1Ap",
        "outputId": "0aa2c41e-1563-46e7-e0d0-ba385ac8e9dd"
      },
      "source": [
        "result.content"
      ],
      "execution_count": null,
      "outputs": [
        {
          "output_type": "execute_result",
          "data": {
            "application/vnd.google.colaboratory.intrinsic+json": {
              "type": "string"
            },
            "text/plain": [
              "'Python programming'"
            ]
          },
          "metadata": {
            "tags": []
          },
          "execution_count": 5
        }
      ]
    },
    {
      "cell_type": "code",
      "metadata": {
        "colab": {
          "base_uri": "https://localhost:8080/"
        },
        "id": "L2p0S-eau3dn",
        "outputId": "4621b8b4-cbe9-4d1b-ad02-532062ec92ad"
      },
      "source": [
        "result.encourage()"
      ],
      "execution_count": null,
      "outputs": [
        {
          "output_type": "stream",
          "text": [
            "God trainer encourages hands on practice\n"
          ],
          "name": "stdout"
        }
      ]
    },
    {
      "cell_type": "code",
      "metadata": {
        "id": "fYTMmgxZu-Tw"
      },
      "source": [
        "\n",
        "\n"
      ],
      "execution_count": 8,
      "outputs": []
    },
    {
      "cell_type": "code",
      "metadata": {
        "colab": {
          "base_uri": "https://localhost:8080/"
        },
        "id": "CwmkVh2LzkRA",
        "outputId": "111a4cb7-c1c4-4f6b-f431-d6a05dfbd535"
      },
      "source": [
        "from __future__ import generators\n",
        "import random\n",
        "\n",
        "class Outcome:\n",
        "    def __init__(self, value, name):\n",
        "        self.value = value\n",
        "        self.name = name\n",
        "    def __str__(self): return self.name\n",
        "    def __eq__(self, other):\n",
        "        return self.value == other.value\n",
        "\n",
        "Outcome.WIN = Outcome(0, \"win\")\n",
        "Outcome.LOSE = Outcome(1, \"lose\")\n",
        "Outcome.DRAW = Outcome(2, \"draw\")\n",
        "\n",
        "class Item(object):\n",
        "    def __str__(self):\n",
        "        return self.__class__.__name__\n",
        "\n",
        "class Paper(Item):\n",
        "    def compete(self, item):\n",
        "        return item.evalPaper(self)\n",
        "    def evalPaper(self, item):\n",
        "        return Outcome.DRAW\n",
        "    def evalScissors(self, item):\n",
        "        return Outcome.WIN\n",
        "    def evalRock(self, item):\n",
        "        return Outcome.LOSE\n",
        "\n",
        "class Scissors(Item):\n",
        "    def compete(self, item):\n",
        "        return item.evalScissors(self)\n",
        "    def evalPaper(self, item):\n",
        "        return Outcome.LOSE\n",
        "    def evalScissors(self, item):\n",
        "        return Outcome.DRAW\n",
        "    def evalRock(self, item):\n",
        "        return Outcome.WIN\n",
        "\n",
        "class Rock(Item):\n",
        "    def compete(self, item):\n",
        "        return item.evalRock(self)\n",
        "    def evalPaper(self, item):\n",
        "        return Outcome.WIN\n",
        "    def evalScissors(self, item):\n",
        "        return Outcome.LOSE\n",
        "    def evalRock(self, item):\n",
        "        return Outcome.DRAW\n",
        "\n",
        "def match(item1, item2):\n",
        "    print(\"%s <--> %s : %s\" % (\n",
        "      item1, item2, item1.compete(item2)))\n",
        "\n",
        "def itemPairGen(n):\n",
        "    Items = Item.__subclasses__()\n",
        "    for i in range(n):\n",
        "        yield (random.choice(Items)(),\n",
        "               random.choice(Items)())\n",
        "\n",
        "for item1, item2 in itemPairGen(20):\n",
        "    match(item1, item2)"
      ],
      "execution_count": 21,
      "outputs": [
        {
          "output_type": "stream",
          "text": [
            "Scissors <--> Paper : win\n",
            "Scissors <--> Paper : win\n",
            "Scissors <--> Scissors : draw\n",
            "Rock <--> Scissors : win\n",
            "Rock <--> Paper : lose\n",
            "Paper <--> Rock : win\n",
            "Rock <--> Rock : draw\n",
            "Scissors <--> Paper : win\n",
            "Rock <--> Rock : draw\n",
            "Paper <--> Rock : win\n",
            "Rock <--> Rock : draw\n",
            "Rock <--> Paper : lose\n",
            "Paper <--> Rock : win\n",
            "Paper <--> Scissors : lose\n",
            "Paper <--> Paper : draw\n",
            "Scissors <--> Paper : win\n",
            "Rock <--> Rock : draw\n",
            "Scissors <--> Rock : lose\n",
            "Paper <--> Rock : win\n",
            "Scissors <--> Paper : win\n"
          ],
          "name": "stdout"
        }
      ]
    },
    {
      "cell_type": "code",
      "metadata": {
        "colab": {
          "base_uri": "https://localhost:8080/"
        },
        "id": "Xu9WT3yT1L52",
        "outputId": "47f5244e-03e4-4caf-c5d1-4cc9d69c5c69"
      },
      "source": [
        "from __future__ import generators\n",
        "import random\n",
        "\n",
        "class Outcome:\n",
        "    def __init__(self, value, name):\n",
        "        self.value = value\n",
        "        self.name = name\n",
        "    def __str__(self): return self.name\n",
        "    def __eq__(self, other):\n",
        "        return self.value == other.value\n",
        "\n",
        "Outcome.WIN = Outcome(0, \"win\")\n",
        "Outcome.LOSE = Outcome(1, \"lose\")\n",
        "Outcome.DRAW = Outcome(2, \"draw\")\n",
        "\n",
        "class Item(object):\n",
        "    def compete(self, item):\n",
        "        return outcome[self.__class__ ,item.__class__]\n",
        "\n",
        "    def __str__(self):\n",
        "      return self.__class__.__name__\n",
        "\n",
        "class Paper(Item): pass\n",
        "class Scissor(Item): pass\n",
        "class Rock(Item): pass\n",
        "\n",
        "outcome = {\n",
        "    (Paper,Rock):Outcome.WIN,\n",
        "    (Paper,Scissor):Outcome.LOSE,\n",
        "    (Paper,Paper):Outcome.DRAW,\n",
        "    (Scissor,Rock):Outcome.LOSE,\n",
        "    (Scissor,Scissor):Outcome.DRAW,\n",
        "    (Scissor,Paper):Outcome.WIN,\n",
        "    (Rock,Scissor):Outcome.WIN,\n",
        "    (Rock,Paper):Outcome.LOSE,\n",
        "    (Rock,Rock):Outcome.DRAW,\n",
        "}\n",
        "\n",
        "def match(item1, item2):\n",
        "    print(\"%s <--> %s : %s\" % (\n",
        "      item1, item2, item1.compete(item2)))\n",
        "    \n",
        "\n",
        "def itemPairGen(n):\n",
        "    Items = Item.__subclasses__()\n",
        "    for i in range(n):\n",
        "        yield (random.choice(Items)(),\n",
        "               random.choice(Items)())\n",
        "\n",
        "for item1, item2 in itemPairGen(20):\n",
        "    match(item1, item2)"
      ],
      "execution_count": 25,
      "outputs": [
        {
          "output_type": "stream",
          "text": [
            "Paper <--> Paper : draw\n",
            "Scissor <--> Scissor : draw\n",
            "Rock <--> Rock : draw\n",
            "Scissor <--> Scissor : draw\n",
            "Scissor <--> Rock : lose\n",
            "Paper <--> Scissor : lose\n",
            "Paper <--> Paper : draw\n",
            "Scissor <--> Scissor : draw\n",
            "Rock <--> Scissor : win\n",
            "Scissor <--> Paper : win\n",
            "Rock <--> Rock : draw\n",
            "Paper <--> Rock : win\n",
            "Rock <--> Scissor : win\n",
            "Paper <--> Rock : win\n",
            "Paper <--> Paper : draw\n",
            "Rock <--> Scissor : win\n",
            "Scissor <--> Rock : lose\n",
            "Paper <--> Rock : win\n",
            "Scissor <--> Paper : win\n",
            "Paper <--> Scissor : lose\n"
          ],
          "name": "stdout"
        }
      ]
    },
    {
      "cell_type": "code",
      "metadata": {
        "id": "7EhwKGD75LJY"
      },
      "source": [
        ""
      ],
      "execution_count": null,
      "outputs": []
    }
  ]
}