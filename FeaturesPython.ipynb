{
  "nbformat": 4,
  "nbformat_minor": 0,
  "metadata": {
    "colab": {
      "name": "FeaturesPython.ipynb",
      "provenance": [],
      "collapsed_sections": [],
      "authorship_tag": "ABX9TyOSqoTw1KxKHAd0X2qxjg+D",
      "include_colab_link": true
    },
    "kernelspec": {
      "name": "python3",
      "display_name": "Python 3"
    },
    "language_info": {
      "name": "python"
    }
  },
  "cells": [
    {
      "cell_type": "markdown",
      "metadata": {
        "id": "view-in-github",
        "colab_type": "text"
      },
      "source": [
        "<a href=\"https://colab.research.google.com/github/DeepanshuPasrija/Python02082021/blob/main/FeaturesPython.ipynb\" target=\"_parent\"><img src=\"https://colab.research.google.com/assets/colab-badge.svg\" alt=\"Open In Colab\"/></a>"
      ]
    },
    {
      "cell_type": "markdown",
      "metadata": {
        "id": "CKyA70QrvDVs"
      },
      "source": [
        "SUB CLASSES:"
      ]
    },
    {
      "cell_type": "code",
      "metadata": {
        "id": "TIgOqKcss9Q5"
      },
      "source": [
        "class Trainer(object):\n",
        "  def __init__(self, name,behaviour,knowledge,content):\n",
        "    self.name =name\n",
        "    self.behaviour =behaviour\n",
        "    self.knowledge =knowledge\n",
        "    self.content =content\n",
        "\n",
        "  def get_behaviour(self):\n",
        "    return self.behaviour\n",
        "\n",
        "  def get_content(self):\n",
        "    return self.content"
      ],
      "execution_count": null,
      "outputs": []
    },
    {
      "cell_type": "code",
      "metadata": {
        "id": "u0D_XuH0tz0c"
      },
      "source": [
        "class GoodTrainer(Trainer):\n",
        "  def __init__(self,name,behaviour,knowledge,content):\n",
        "    super().__init__(name,behaviour,knowledge,content)\n",
        "\n",
        "  def encourage(self):\n",
        "    print(\"God trainer encourages hands on practice\")\n",
        "  \n",
        "  def nurture_talent(self):\n",
        "    print(\"God trainer encourages hands on practice and nurtures audience\")\n",
        "  "
      ],
      "execution_count": null,
      "outputs": []
    },
    {
      "cell_type": "code",
      "metadata": {
        "id": "q_mq0pszumXO"
      },
      "source": [
        "result = GoodTrainer(\"Deepanshu\",\"Good\",\"Ample\",\"Python programming\")"
      ],
      "execution_count": null,
      "outputs": []
    },
    {
      "cell_type": "code",
      "metadata": {
        "colab": {
          "base_uri": "https://localhost:8080/",
          "height": 35
        },
        "id": "p1hvFvfRu1Ap",
        "outputId": "0aa2c41e-1563-46e7-e0d0-ba385ac8e9dd"
      },
      "source": [
        "result.content"
      ],
      "execution_count": null,
      "outputs": [
        {
          "output_type": "execute_result",
          "data": {
            "application/vnd.google.colaboratory.intrinsic+json": {
              "type": "string"
            },
            "text/plain": [
              "'Python programming'"
            ]
          },
          "metadata": {
            "tags": []
          },
          "execution_count": 5
        }
      ]
    },
    {
      "cell_type": "code",
      "metadata": {
        "colab": {
          "base_uri": "https://localhost:8080/"
        },
        "id": "L2p0S-eau3dn",
        "outputId": "4621b8b4-cbe9-4d1b-ad02-532062ec92ad"
      },
      "source": [
        "result.encourage()"
      ],
      "execution_count": null,
      "outputs": [
        {
          "output_type": "stream",
          "text": [
            "God trainer encourages hands on practice\n"
          ],
          "name": "stdout"
        }
      ]
    },
    {
      "cell_type": "code",
      "metadata": {
        "id": "fYTMmgxZu-Tw"
      },
      "source": [
        ""
      ],
      "execution_count": null,
      "outputs": []
    }
  ]
}